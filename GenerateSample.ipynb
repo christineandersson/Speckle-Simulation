{
 "cells": [
  {
   "cell_type": "code",
   "execution_count": 1,
   "metadata": {},
   "outputs": [],
   "source": [
    "import numpy as np\n",
    "import math as m\n",
    "import matplotlib.pyplot as plt\n",
    "from scipy.ndimage import gaussian_filter\n",
    "import scipy.fft as fft"
   ]
  },
  {
   "cell_type": "code",
   "execution_count": 253,
   "metadata": {},
   "outputs": [],
   "source": [
    "def pad_with(vector, pad_width, iaxis, kwargs):\n",
    "    pad_value = kwargs.get('padder', 0)\n",
    "    vector[:pad_width[0]] = pad_value\n",
    "    vector[-pad_width[1]:] = pad_value\n",
    "\n",
    "def generatecenter(s_dim, N, radius_pixels):\n",
    "    mSample = np.zeros((s_dim,s_dim))\n",
    "    m_dim = s_dim - radius_pixels - 5              #Possible center points matrix dim\n",
    "    m_prepad = np.ones((m_dim,m_dim))\n",
    "\n",
    "    #------Padding-----#\n",
    "    pad_length = radius_pixels +5  # + 5 for insurance\n",
    "    m = np.pad(m_prepad, pad_length, pad_with, padder=0) #mask matrix\n",
    "    \n",
    "    #---where we start picking points, loop over number of particles N---#\n",
    "    for x in range(0,N):\n",
    "        #Create a mask of all available center points\n",
    "        indices = [(i,j) for i in range(len(m)) for j in range(len(m[i])) if m[i][j] != 0] # generate mask grid\n",
    "        \n",
    "        #Out of all available center points, pick a random one\n",
    "        p = np.random.randint(0,len(indices))\n",
    "        p1 = indices[p]\n",
    "        \n",
    "        #Loop for updating mask and sample matrix with every generated particle\n",
    "        for i in range(s_dim):\n",
    "            for j in range(s_dim):\n",
    "                if (i-p1[0])*(i-p1[0]) + (j-p1[1])*(j-p1[1]) <= (radius_pixels*2 )**2:\n",
    "                    #masking the circle\n",
    "                    m[i][j] = 0                                                    \n",
    "                if (i-p1[0])*(i-p1[0]) + (j-p1[1])*(j-p1[1]) <= (radius_pixels)**2:\n",
    "                    #creating the circle on the sample matrix\n",
    "                    mSample[i][j] = 1                                              \n",
    "                \n",
    "    return m, mSample"
   ]
  },
  {
   "cell_type": "code",
   "execution_count": 141,
   "metadata": {},
   "outputs": [],
   "source": [
    "#-------------Sample--------------#\n",
    "       \n",
    "s_dim = 120                                     # dimension of the sample matrix\n",
    "sample_pixel_size = 2 * 10**(-9)                       #m\n",
    "a = 2                                           #nm, this is the smallest unit length for our detector\n",
    "aa = 20 #AA\n",
    "\n",
    "N = 5                                        # number of particles\n",
    "radius = 26                                 # radius of particle in nm\n",
    "radius_meters = radius * 10**(-9)                   # radius in meters\n",
    "radius_pixels = int(radius*10**(-9) / sample_pixel_size)    # radius in pixels\n",
    "\n",
    "mSample = np.zeros((s_dim,s_dim))               # generating sample matrix\n",
    "L = 7.8                                           # sample-detector distance in meters\n",
    "\n",
    "#constants\n",
    "c = 2.99792458 * 10**8 \n",
    "wavelength = 1.5 * 10**(-10)                    #m\n",
    "frequency = c / wavelength"
   ]
  },
  {
   "cell_type": "code",
   "execution_count": 240,
   "metadata": {},
   "outputs": [
    {
     "data": {
      "text/plain": [
       "13"
      ]
     },
     "execution_count": 240,
     "metadata": {},
     "output_type": "execute_result"
    }
   ],
   "source": [
    "mSample = np.zeros((s_dim,s_dim))\n",
    "m_dim = s_dim - radius #Possible center points\n",
    "m_prepad = np.ones((m_dim,m_dim))\n",
    "item = 1\n",
    "\n",
    "#------Padding-----#\n",
    "pad_length = round(radius/2)\n",
    "m = np.pad(m_prepad, pad_length, pad_with, padder=0)\n",
    "radius_pixels"
   ]
  },
  {
   "cell_type": "code",
   "execution_count": 252,
   "metadata": {},
   "outputs": [
    {
     "data": {
      "text/plain": [
       "(57, 50)"
      ]
     },
     "execution_count": 252,
     "metadata": {},
     "output_type": "execute_result"
    }
   ],
   "source": [
    "indices = [(i,j) for i in range(len(m)) for j in range(len(m[i])) if m[i][j] != 0] # generate mask grid\n",
    "\n",
    "p1 = np.random.randint(0,len(indices))\n",
    "indices[p1]\n",
    "\n",
    "#mask = [(i,j) for i in range(len(m)) for j in range(len(m[i])) if (0.01 < px) & (px < 0.05) & (-0.05 < py) & (py < -0.02)]"
   ]
  },
  {
   "cell_type": "code",
   "execution_count": 260,
   "metadata": {},
   "outputs": [
    {
     "data": {
      "text/plain": [
       "<matplotlib.image.AxesImage at 0x7fc8ae588bb0>"
      ]
     },
     "execution_count": 260,
     "metadata": {},
     "output_type": "execute_result"
    },
    {
     "data": {
      "image/png": "[encoded data removed]",
      "text/plain": [
       "<Figure size 432x288 with 1 Axes>"
      ]
     },
     "metadata": {
      "needs_background": "light"
     },
     "output_type": "display_data"
    }
   ],
   "source": [
    "#Generate sample\n",
    "z = generatecenter(1024, 200, radius_pixels)\n",
    "plt.imshow(z[1], interpolation ='none')"
   ]
  },
  {
   "cell_type": "code",
   "execution_count": 261,
   "metadata": {},
   "outputs": [
    {
     "data": {
      "text/plain": [
       "<matplotlib.image.AxesImage at 0x7fc8c85d3160>"
      ]
     },
     "execution_count": 261,
     "metadata": {},
     "output_type": "execute_result"
    },
    {
     "data": {
      "image/png": "[encoded data removed]",
      "text/plain": [
       "<Figure size 432x288 with 1 Axes>"
      ]
     },
     "metadata": {
      "needs_background": "light"
     },
     "output_type": "display_data"
    }
   ],
   "source": [
    "# show masked parts\n",
    "plt.imshow(z[0], interpolation ='none')"
   ]
  },
  {
   "cell_type": "code",
   "execution_count": null,
   "metadata": {},
   "outputs": [],
   "source": []
  }
 ],
 "metadata": {
  "kernelspec": {
   "display_name": "Python 3",
   "language": "python",
   "name": "python3"
  },
  "language_info": {
   "codemirror_mode": {
    "name": "ipython",
    "version": 3
   },
   "file_extension": ".py",
   "mimetype": "text/x-python",
   "name": "python",
   "nbconvert_exporter": "python",
   "pygments_lexer": "ipython3",
   "version": "3.8.5"
  }
 },
 "nbformat": 4,
 "nbformat_minor": 4
}
